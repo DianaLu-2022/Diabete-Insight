{
 "cells": [
  {
   "cell_type": "markdown",
   "id": "8fe7f043",
   "metadata": {},
   "source": [
    "student #:11356590"
   ]
  },
  {
   "cell_type": "code",
   "execution_count": 4,
   "id": "40ac1efe",
   "metadata": {},
   "outputs": [],
   "source": [
    "import pandas as pd"
   ]
  },
  {
   "cell_type": "code",
   "execution_count": 5,
   "id": "db4e757d",
   "metadata": {},
   "outputs": [
    {
     "data": {
      "text/html": [
       "<div>\n",
       "<style scoped>\n",
       "    .dataframe tbody tr th:only-of-type {\n",
       "        vertical-align: middle;\n",
       "    }\n",
       "\n",
       "    .dataframe tbody tr th {\n",
       "        vertical-align: top;\n",
       "    }\n",
       "\n",
       "    .dataframe thead th {\n",
       "        text-align: right;\n",
       "    }\n",
       "</style>\n",
       "<table border=\"1\" class=\"dataframe\">\n",
       "  <thead>\n",
       "    <tr style=\"text-align: right;\">\n",
       "      <th></th>\n",
       "      <th>Pregnancies</th>\n",
       "      <th>Glucose</th>\n",
       "      <th>BloodPressure</th>\n",
       "      <th>SkinThickness</th>\n",
       "      <th>Insulin</th>\n",
       "      <th>BMI</th>\n",
       "      <th>DiabetesPedigree</th>\n",
       "      <th>Age</th>\n",
       "      <th>Outcome</th>\n",
       "    </tr>\n",
       "  </thead>\n",
       "  <tbody>\n",
       "    <tr>\n",
       "      <th>0</th>\n",
       "      <td>6</td>\n",
       "      <td>148</td>\n",
       "      <td>72</td>\n",
       "      <td>35</td>\n",
       "      <td>0</td>\n",
       "      <td>33.6</td>\n",
       "      <td>0.627</td>\n",
       "      <td>50</td>\n",
       "      <td>1</td>\n",
       "    </tr>\n",
       "    <tr>\n",
       "      <th>1</th>\n",
       "      <td>1</td>\n",
       "      <td>85</td>\n",
       "      <td>66</td>\n",
       "      <td>29</td>\n",
       "      <td>0</td>\n",
       "      <td>26.6</td>\n",
       "      <td>0.351</td>\n",
       "      <td>31</td>\n",
       "      <td>0</td>\n",
       "    </tr>\n",
       "    <tr>\n",
       "      <th>2</th>\n",
       "      <td>8</td>\n",
       "      <td>183</td>\n",
       "      <td>64</td>\n",
       "      <td>0</td>\n",
       "      <td>0</td>\n",
       "      <td>23.3</td>\n",
       "      <td>0.672</td>\n",
       "      <td>32</td>\n",
       "      <td>1</td>\n",
       "    </tr>\n",
       "    <tr>\n",
       "      <th>3</th>\n",
       "      <td>1</td>\n",
       "      <td>89</td>\n",
       "      <td>66</td>\n",
       "      <td>23</td>\n",
       "      <td>94</td>\n",
       "      <td>28.1</td>\n",
       "      <td>0.167</td>\n",
       "      <td>21</td>\n",
       "      <td>0</td>\n",
       "    </tr>\n",
       "    <tr>\n",
       "      <th>4</th>\n",
       "      <td>0</td>\n",
       "      <td>137</td>\n",
       "      <td>40</td>\n",
       "      <td>35</td>\n",
       "      <td>168</td>\n",
       "      <td>43.1</td>\n",
       "      <td>2.288</td>\n",
       "      <td>33</td>\n",
       "      <td>1</td>\n",
       "    </tr>\n",
       "  </tbody>\n",
       "</table>\n",
       "</div>"
      ],
      "text/plain": [
       "   Pregnancies  Glucose  BloodPressure  SkinThickness  Insulin   BMI  \\\n",
       "0            6      148             72             35        0  33.6   \n",
       "1            1       85             66             29        0  26.6   \n",
       "2            8      183             64              0        0  23.3   \n",
       "3            1       89             66             23       94  28.1   \n",
       "4            0      137             40             35      168  43.1   \n",
       "\n",
       "   DiabetesPedigree  Age  Outcome  \n",
       "0             0.627   50        1  \n",
       "1             0.351   31        0  \n",
       "2             0.672   32        1  \n",
       "3             0.167   21        0  \n",
       "4             2.288   33        1  "
      ]
     },
     "execution_count": 5,
     "metadata": {},
     "output_type": "execute_result"
    }
   ],
   "source": [
    "data = pd.read_csv(\"PimaDiabetes.csv\")\n",
    "data.head(5)"
   ]
  },
  {
   "cell_type": "code",
   "execution_count": 6,
   "id": "ef00338a",
   "metadata": {},
   "outputs": [
    {
     "name": "stdout",
     "output_type": "stream",
     "text": [
      "['Pregnancies', 'Glucose', 'BloodPressure', 'SkinThickness', 'Insulin', 'BMI', 'DiabetesPedigree', 'Age', 'Outcome']\n"
     ]
    }
   ],
   "source": [
    "print(data.columns.to_list())"
   ]
  },
  {
   "cell_type": "code",
   "execution_count": 7,
   "id": "c67f0640",
   "metadata": {},
   "outputs": [
    {
     "data": {
      "text/html": [
       "<div>\n",
       "<style scoped>\n",
       "    .dataframe tbody tr th:only-of-type {\n",
       "        vertical-align: middle;\n",
       "    }\n",
       "\n",
       "    .dataframe tbody tr th {\n",
       "        vertical-align: top;\n",
       "    }\n",
       "\n",
       "    .dataframe thead th {\n",
       "        text-align: right;\n",
       "    }\n",
       "</style>\n",
       "<table border=\"1\" class=\"dataframe\">\n",
       "  <thead>\n",
       "    <tr style=\"text-align: right;\">\n",
       "      <th></th>\n",
       "      <th>Pregnancies</th>\n",
       "      <th>Glucose</th>\n",
       "      <th>BloodPressure</th>\n",
       "      <th>SkinThickness</th>\n",
       "      <th>Insulin</th>\n",
       "      <th>BMI</th>\n",
       "      <th>DiabetesPedigree</th>\n",
       "      <th>Age</th>\n",
       "      <th>Outcome</th>\n",
       "    </tr>\n",
       "  </thead>\n",
       "  <tbody>\n",
       "    <tr>\n",
       "      <th>count</th>\n",
       "      <td>750.000000</td>\n",
       "      <td>750.000000</td>\n",
       "      <td>750.000000</td>\n",
       "      <td>750.000000</td>\n",
       "      <td>750.000000</td>\n",
       "      <td>750.000000</td>\n",
       "      <td>750.000000</td>\n",
       "      <td>750.000000</td>\n",
       "      <td>750.000000</td>\n",
       "    </tr>\n",
       "    <tr>\n",
       "      <th>mean</th>\n",
       "      <td>3.844000</td>\n",
       "      <td>120.737333</td>\n",
       "      <td>68.982667</td>\n",
       "      <td>20.489333</td>\n",
       "      <td>80.378667</td>\n",
       "      <td>31.959067</td>\n",
       "      <td>0.473544</td>\n",
       "      <td>33.166667</td>\n",
       "      <td>0.346667</td>\n",
       "    </tr>\n",
       "    <tr>\n",
       "      <th>std</th>\n",
       "      <td>3.370085</td>\n",
       "      <td>32.019671</td>\n",
       "      <td>19.508814</td>\n",
       "      <td>15.918828</td>\n",
       "      <td>115.019198</td>\n",
       "      <td>7.927399</td>\n",
       "      <td>0.332119</td>\n",
       "      <td>11.708872</td>\n",
       "      <td>0.476226</td>\n",
       "    </tr>\n",
       "    <tr>\n",
       "      <th>min</th>\n",
       "      <td>0.000000</td>\n",
       "      <td>0.000000</td>\n",
       "      <td>0.000000</td>\n",
       "      <td>0.000000</td>\n",
       "      <td>0.000000</td>\n",
       "      <td>0.000000</td>\n",
       "      <td>0.078000</td>\n",
       "      <td>21.000000</td>\n",
       "      <td>0.000000</td>\n",
       "    </tr>\n",
       "    <tr>\n",
       "      <th>25%</th>\n",
       "      <td>1.000000</td>\n",
       "      <td>99.000000</td>\n",
       "      <td>62.000000</td>\n",
       "      <td>0.000000</td>\n",
       "      <td>0.000000</td>\n",
       "      <td>27.300000</td>\n",
       "      <td>0.244000</td>\n",
       "      <td>24.000000</td>\n",
       "      <td>0.000000</td>\n",
       "    </tr>\n",
       "    <tr>\n",
       "      <th>50%</th>\n",
       "      <td>3.000000</td>\n",
       "      <td>117.000000</td>\n",
       "      <td>72.000000</td>\n",
       "      <td>23.000000</td>\n",
       "      <td>36.500000</td>\n",
       "      <td>32.000000</td>\n",
       "      <td>0.377000</td>\n",
       "      <td>29.000000</td>\n",
       "      <td>0.000000</td>\n",
       "    </tr>\n",
       "    <tr>\n",
       "      <th>75%</th>\n",
       "      <td>6.000000</td>\n",
       "      <td>140.750000</td>\n",
       "      <td>80.000000</td>\n",
       "      <td>32.000000</td>\n",
       "      <td>129.750000</td>\n",
       "      <td>36.575000</td>\n",
       "      <td>0.628500</td>\n",
       "      <td>40.750000</td>\n",
       "      <td>1.000000</td>\n",
       "    </tr>\n",
       "    <tr>\n",
       "      <th>max</th>\n",
       "      <td>17.000000</td>\n",
       "      <td>199.000000</td>\n",
       "      <td>122.000000</td>\n",
       "      <td>99.000000</td>\n",
       "      <td>846.000000</td>\n",
       "      <td>67.100000</td>\n",
       "      <td>2.420000</td>\n",
       "      <td>81.000000</td>\n",
       "      <td>1.000000</td>\n",
       "    </tr>\n",
       "  </tbody>\n",
       "</table>\n",
       "</div>"
      ],
      "text/plain": [
       "       Pregnancies     Glucose  BloodPressure  SkinThickness     Insulin  \\\n",
       "count   750.000000  750.000000     750.000000     750.000000  750.000000   \n",
       "mean      3.844000  120.737333      68.982667      20.489333   80.378667   \n",
       "std       3.370085   32.019671      19.508814      15.918828  115.019198   \n",
       "min       0.000000    0.000000       0.000000       0.000000    0.000000   \n",
       "25%       1.000000   99.000000      62.000000       0.000000    0.000000   \n",
       "50%       3.000000  117.000000      72.000000      23.000000   36.500000   \n",
       "75%       6.000000  140.750000      80.000000      32.000000  129.750000   \n",
       "max      17.000000  199.000000     122.000000      99.000000  846.000000   \n",
       "\n",
       "              BMI  DiabetesPedigree         Age     Outcome  \n",
       "count  750.000000        750.000000  750.000000  750.000000  \n",
       "mean    31.959067          0.473544   33.166667    0.346667  \n",
       "std      7.927399          0.332119   11.708872    0.476226  \n",
       "min      0.000000          0.078000   21.000000    0.000000  \n",
       "25%     27.300000          0.244000   24.000000    0.000000  \n",
       "50%     32.000000          0.377000   29.000000    0.000000  \n",
       "75%     36.575000          0.628500   40.750000    1.000000  \n",
       "max     67.100000          2.420000   81.000000    1.000000  "
      ]
     },
     "execution_count": 7,
     "metadata": {},
     "output_type": "execute_result"
    }
   ],
   "source": [
    "data.describe()"
   ]
  },
  {
   "cell_type": "markdown",
   "id": "9d02a9be",
   "metadata": {},
   "source": [
    "The indicators 'Glucose,' 'BloodPressure,' 'SkinThickness,' 'Insulin,' and 'BMI' must not be zero, which leads me to suspect that this dataset has been filled with zeros to handle missing data."
   ]
  },
  {
   "cell_type": "code",
   "execution_count": 8,
   "id": "2e8c000d",
   "metadata": {},
   "outputs": [],
   "source": [
    "# function to fill in missing data\n",
    "def fill_in_missing_value(data, col_name):\n",
    "    \n",
    "    # Create a boolean mask to identify missing values in the specified column\n",
    "    missing_value = (data[col_name] == 0)\n",
    "    # Create a boolean mask to identify positive outcome cases\n",
    "    positive = (data['Outcome'] == 1)\n",
    "    # Create a boolean mask to identify negative outcome cases\n",
    "    negative = (data['Outcome'] == 0)\n",
    "    \n",
    "    # Find the indices of missing values where outcome is positive \n",
    "    o_index = data[positive & missing_value].index\n",
    "    # Find the indices of missing values where outcome is negative \n",
    "    x_index = data[negative & missing_value].index\n",
    "    \n",
    "    # Calculate the mean of positive outcome cases\n",
    "    o_mean = data.loc[positive, col_name].mean()\n",
    "    # Calculate the mean of negative outcome cases\n",
    "    x_mean = data.loc[negative, col_name].mean()\n",
    "    \n",
    "    # Fill in missing values for positive outcome cases with the mean\n",
    "    data.loc[o_index, col_name] = o_mean\n",
    "    # Fill in missing values for negative outcome cases with the mean\n",
    "    data.loc[x_index, col_name] = x_mean\n",
    "\n",
    "    return data\n"
   ]
  },
  {
   "cell_type": "code",
   "execution_count": 9,
   "id": "973fd3b8",
   "metadata": {},
   "outputs": [],
   "source": [
    "# fill in missing data\n",
    "data = fill_in_missing_value(data, \"Glucose\")\n",
    "data = fill_in_missing_value(data, \"BloodPressure\")\n",
    "data = fill_in_missing_value(data, \"SkinThickness\")\n",
    "data = fill_in_missing_value(data, \"Insulin\")\n",
    "data = fill_in_missing_value(data, \"BMI\")"
   ]
  },
  {
   "cell_type": "code",
   "execution_count": 10,
   "id": "2a4f9533",
   "metadata": {},
   "outputs": [
    {
     "data": {
      "text/plain": [
       "Pregnancies          0.000\n",
       "Glucose             44.000\n",
       "BloodPressure       24.000\n",
       "SkinThickness        7.000\n",
       "Insulin             14.000\n",
       "BMI                 18.200\n",
       "DiabetesPedigree     0.078\n",
       "Age                 21.000\n",
       "Outcome              0.000\n",
       "dtype: float64"
      ]
     },
     "execution_count": 10,
     "metadata": {},
     "output_type": "execute_result"
    }
   ],
   "source": [
    "# to check the existence of missing value\n",
    "# if min != 0, then we suceed to fill in.\n",
    "data.min()"
   ]
  },
  {
   "cell_type": "code",
   "execution_count": 11,
   "id": "4072c3fd",
   "metadata": {},
   "outputs": [],
   "source": [
    "# EDA function\n",
    "import matplotlib.pyplot as plt\n",
    "import numpy as np\n",
    "\n",
    "def IQR(num):\n",
    "    q1 = np.percentile(num, 25)\n",
    "    q2 = np.percentile(num, 50)  \n",
    "    q3 = np.percentile(num, 75)\n",
    "    print(\"Q1 (25th percentile):\", q1)\n",
    "    print(\"Q2 (50th percentile - Median):\", q2)\n",
    "    print(\"Q3 (75th percentile):\", q3)\n",
    "\n",
    "def eda(data, col_name):\n",
    "\n",
    "    print(data[col_name].describe())\n",
    "    \n",
    "    # Sample data\n",
    "    col = data[col_name].values  # Ensure col is a NumPy array\n",
    "    outcome = data['Outcome']\n",
    "    \n",
    "\n",
    "    # Calculate the distribution of \"Outcome\" for each \"Pregnancies\" category\n",
    "    o_num = col[outcome == 1]\n",
    "    x_num = col[outcome == 0]\n",
    "\n",
    "    # Create separate bar charts for Outcome 0 and 1\n",
    "    plt.figure(figsize=(10, 4))\n",
    "\n",
    "    # Plot histograms for Negative and Positive\n",
    "    plt.hist(x_num, bins=np.arange(min(col), max(col) + 1, 0.5), alpha=0.5, label='Negative', color='blue')\n",
    "    plt.hist(o_num, bins=np.arange(min(col), max(col) + 1, 0.5), alpha=0.5, label='Positive', color='red')\n",
    "\n",
    "    # Add labels and title\n",
    "    plt.xlabel(col_name)\n",
    "    plt.ylabel('Counts')\n",
    "    plt.title('{} vs. Diabetes'.format(col_name))\n",
    "    plt.legend()\n",
    "\n",
    "    plt.show()\n",
    "    \n",
    "    # Print IQR\n",
    "    print(\"Postive:\")\n",
    "    IQR(o_num)\n",
    "    print(\"Negative:\")\n",
    "    IQR(x_num)\n",
    "    \n",
    "#     # Calculate and print prevalences\n",
    "#     print(\"\\nPrevalence:\")\n",
    "#     for bin_edge in np.arange(min(col), max(col) + 1, 0.5):\n",
    "#         bin_start = bin_edge\n",
    "#         bin_end = bin_edge + 0.5\n",
    "#         o_count = len(o_num[(o_num >= bin_start) & (o_num < bin_end)])\n",
    "#         x_count = len(x_num[(x_num >= bin_start) & (x_num < bin_end)])\n",
    "#         total_count = o_count + x_count\n",
    "#         if total_count == 0:\n",
    "#             pre = 0\n",
    "#         else:\n",
    "#             pre = o_count / total_count\n",
    "#         # only print bigger number in \"Prevalence\"\n",
    "#         if pre > 0.3:\n",
    "#             print(\"{bin_start}-{bin_end}: {pre:.2f}\".format(bin_start=bin_start, bin_end=bin_end, pre=pre))\n"
   ]
  },
  {
   "cell_type": "code",
   "execution_count": 12,
   "id": "b7a595d1",
   "metadata": {},
   "outputs": [
    {
     "name": "stdout",
     "output_type": "stream",
     "text": [
      "count    750.000000\n",
      "mean       3.844000\n",
      "std        3.370085\n",
      "min        0.000000\n",
      "25%        1.000000\n",
      "50%        3.000000\n",
      "75%        6.000000\n",
      "max       17.000000\n",
      "Name: Pregnancies, dtype: float64\n"
     ]
    },
    {
     "data": {
      "image/png": "[encoded data removed]",
      "text/plain": [
       "<Figure size 1000x400 with 1 Axes>"
      ]
     },
     "metadata": {},
     "output_type": "display_data"
    },
    {
     "name": "stdout",
     "output_type": "stream",
     "text": [
      "Postive:\n",
      "Q1 (25th percentile): 2.0\n",
      "Q2 (50th percentile - Median): 4.0\n",
      "Q3 (75th percentile): 8.0\n",
      "Negative:\n",
      "Q1 (25th percentile): 1.0\n",
      "Q2 (50th percentile - Median): 2.0\n",
      "Q3 (75th percentile): 5.0\n"
     ]
    }
   ],
   "source": [
    "eda(data, \"Pregnancies\")   "
   ]
  },
  {
   "cell_type": "markdown",
   "id": "37bea701",
   "metadata": {},
   "source": [
    "From the quartile analysis, it can be observed that the majority of diabetes patients have a pregnancy history ranging from 2 to 8 times, which is notably higher compared to those without the condition, who typically have a history of one to five pregnancies.\n",
    "\n",
    "Additionally, when 'Pregnancies' is greater than or equal to 7, the proportion of individuals with diabetes is significantly higher than those without the condition, often exceeding 50%."
   ]
  },
  {
   "cell_type": "code",
   "execution_count": 13,
   "id": "3e9a3e59",
   "metadata": {},
   "outputs": [
    {
     "name": "stdout",
     "output_type": "stream",
     "text": [
      "count    750.000000\n",
      "mean     121.553253\n",
      "std       30.476753\n",
      "min       44.000000\n",
      "25%       99.000000\n",
      "50%      117.000000\n",
      "75%      140.989423\n",
      "max      199.000000\n",
      "Name: Glucose, dtype: float64\n"
     ]
    },
    {
     "data": {
      "image/png": "[encoded data removed]",
      "text/plain": [
       "<Figure size 1000x400 with 1 Axes>"
      ]
     },
     "metadata": {},
     "output_type": "display_data"
    },
    {
     "name": "stdout",
     "output_type": "stream",
     "text": [
      "Postive:\n",
      "Q1 (25th percentile): 119.0\n",
      "Q2 (50th percentile - Median): 140.47884615384615\n",
      "Q3 (75th percentile): 166.25\n",
      "Negative:\n",
      "Q1 (25th percentile): 93.25\n",
      "Q2 (50th percentile - Median): 107.5\n",
      "Q3 (75th percentile): 125.0\n"
     ]
    }
   ],
   "source": [
    "eda(data, \"Glucose\")   "
   ]
  },
  {
   "cell_type": "markdown",
   "id": "165027ad",
   "metadata": {},
   "source": [
    "From the quartile results of the samples among individuals with diabetes and those without, it becomes evident that following a two-hour oral glucose tolerance test, patients with diabetes generally exhibit notably higher plasma glucose concentration (mg/dl) levels when compared to those without diabetes. The majority of patients with diabetes have plasma glucose concentrations ranging from 119 to 166.25, while samples from those without diabetes typically range from 93.25 to 125.\n",
    "\n",
    "Furthermore, it is worth noting that when the plasma glucose concentration exceeds 120, the likelihood of diabetes is approximately 50%."
   ]
  },
  {
   "cell_type": "code",
   "execution_count": 14,
   "id": "2265bcec",
   "metadata": {},
   "outputs": [
    {
     "name": "stdout",
     "output_type": "stream",
     "text": [
      "count    750.000000\n",
      "mean      72.214711\n",
      "std       12.159133\n",
      "min       24.000000\n",
      "25%       64.000000\n",
      "50%       72.000000\n",
      "75%       80.000000\n",
      "max      122.000000\n",
      "Name: BloodPressure, dtype: float64\n"
     ]
    },
    {
     "data": {
      "image/png": "[encoded data removed]",
      "text/plain": [
       "<Figure size 1000x400 with 1 Axes>"
      ]
     },
     "metadata": {},
     "output_type": "display_data"
    },
    {
     "name": "stdout",
     "output_type": "stream",
     "text": [
      "Postive:\n",
      "Q1 (25th percentile): 68.0\n",
      "Q2 (50th percentile - Median): 74.0\n",
      "Q3 (75th percentile): 82.0\n",
      "Negative:\n",
      "Q1 (25th percentile): 64.0\n",
      "Q2 (50th percentile - Median): 70.0\n",
      "Q3 (75th percentile): 78.0\n"
     ]
    }
   ],
   "source": [
    "eda(data, \"BloodPressure\")   "
   ]
  },
  {
   "cell_type": "markdown",
   "id": "69c454b2",
   "metadata": {},
   "source": [
    "Regarding blood pressure, most individuals with diabetes have blood pressure levels between 68 and 82. While the quartile comparison shows slightly higher blood pressure in those with diabetes, it's important to note that the majority of participants fall within the standard range of 64 to 80. As a result, it's visually challenging to establish a clear link between blood pressure and diabetes."
   ]
  },
  {
   "cell_type": "code",
   "execution_count": 15,
   "id": "5bba6aa7",
   "metadata": {},
   "outputs": [
    {
     "name": "stdout",
     "output_type": "stream",
     "text": [
      "count    750.000000\n",
      "mean      26.553920\n",
      "std        9.655994\n",
      "min        7.000000\n",
      "25%       19.536735\n",
      "50%       23.000000\n",
      "75%       32.000000\n",
      "max       99.000000\n",
      "Name: SkinThickness, dtype: float64\n"
     ]
    },
    {
     "data": {
      "image/png": "[encoded data removed]",
      "text/plain": [
       "<Figure size 1000x400 with 1 Axes>"
      ]
     },
     "metadata": {},
     "output_type": "display_data"
    },
    {
     "name": "stdout",
     "output_type": "stream",
     "text": [
      "Postive:\n",
      "Q1 (25th percentile): 22.284615384615385\n",
      "Q2 (50th percentile - Median): 27.0\n",
      "Q3 (75th percentile): 36.0\n",
      "Negative:\n",
      "Q1 (25th percentile): 19.536734693877552\n",
      "Q2 (50th percentile - Median): 21.0\n",
      "Q3 (75th percentile): 31.0\n"
     ]
    }
   ],
   "source": [
    "eda(data, \"SkinThickness\") "
   ]
  },
  {
   "cell_type": "markdown",
   "id": "fa7f1feb",
   "metadata": {},
   "source": [
    "Diabetes-positive individuals generally have thicker skin than diabetes-negative ones, with skin thickness ranging from approximately 22.28 to 36."
   ]
  },
  {
   "cell_type": "code",
   "execution_count": 16,
   "id": "d75d6e50",
   "metadata": {},
   "outputs": [
    {
     "name": "stdout",
     "output_type": "stream",
     "text": [
      "count    750.000000\n",
      "mean     119.449109\n",
      "std       93.222636\n",
      "min       14.000000\n",
      "25%       69.416327\n",
      "50%      100.000000\n",
      "75%      129.750000\n",
      "max      846.000000\n",
      "Name: Insulin, dtype: float64\n"
     ]
    },
    {
     "data": {
      "image/png": "[encoded data removed]",
      "text/plain": [
       "<Figure size 1000x400 with 1 Axes>"
      ]
     },
     "metadata": {},
     "output_type": "display_data"
    },
    {
     "name": "stdout",
     "output_type": "stream",
     "text": [
      "Postive:\n",
      "Q1 (25th percentile): 101.03846153846153\n",
      "Q2 (50th percentile - Median): 101.03846153846153\n",
      "Q3 (75th percentile): 168.0\n",
      "Negative:\n",
      "Q1 (25th percentile): 69.41632653061224\n",
      "Q2 (50th percentile - Median): 69.41632653061224\n",
      "Q3 (75th percentile): 105.0\n"
     ]
    }
   ],
   "source": [
    "eda(data, \"Insulin\") "
   ]
  },
  {
   "cell_type": "markdown",
   "id": "4652dc0a",
   "metadata": {},
   "source": [
    "Healthy individuals have an Insulin level of around 69. Most cases with Insulin levels exceeding 74 are diabetes patients. Furthermore, the majority of individuals with diabetes have an Insulin value of approximately 101."
   ]
  },
  {
   "cell_type": "code",
   "execution_count": 17,
   "id": "c0619654",
   "metadata": {},
   "outputs": [
    {
     "name": "stdout",
     "output_type": "stream",
     "text": [
      "count    750.000000\n",
      "mean      32.416135\n",
      "std        6.906108\n",
      "min       18.200000\n",
      "25%       27.500000\n",
      "50%       32.000000\n",
      "75%       36.575000\n",
      "max       67.100000\n",
      "Name: BMI, dtype: float64\n"
     ]
    },
    {
     "data": {
      "image/png": "[encoded data removed]",
      "text/plain": [
       "<Figure size 1000x400 with 1 Axes>"
      ]
     },
     "metadata": {},
     "output_type": "display_data"
    },
    {
     "name": "stdout",
     "output_type": "stream",
     "text": [
      "Postive:\n",
      "Q1 (25th percentile): 30.875\n",
      "Q2 (50th percentile - Median): 34.3\n",
      "Q3 (75th percentile): 38.775000000000006\n",
      "Negative:\n",
      "Q1 (25th percentile): 25.6\n",
      "Q2 (50th percentile - Median): 30.2865306122449\n",
      "Q3 (75th percentile): 35.275\n"
     ]
    }
   ],
   "source": [
    "eda(data, \"BMI\") "
   ]
  },
  {
   "cell_type": "markdown",
   "id": "830b66fc",
   "metadata": {},
   "source": [
    "From the BMI data, it's evident that samples with lower BMI values are predominantly negative for diabetes. However, starting from a BMI greater than 30, over 40% of participants have positive diabetes test results. This proportion increases significantly for individuals with a BMI greater than 48, where all participants are diabetes patients. Moreover, most diabetes patients have BMI values ranging from 30.875 to 38.775."
   ]
  },
  {
   "cell_type": "code",
   "execution_count": 18,
   "id": "584cff55",
   "metadata": {},
   "outputs": [
    {
     "name": "stdout",
     "output_type": "stream",
     "text": [
      "count    750.000000\n",
      "mean       0.473544\n",
      "std        0.332119\n",
      "min        0.078000\n",
      "25%        0.244000\n",
      "50%        0.377000\n",
      "75%        0.628500\n",
      "max        2.420000\n",
      "Name: DiabetesPedigree, dtype: float64\n"
     ]
    },
    {
     "data": {
      "image/png": "[encoded data removed]",
      "text/plain": [
       "<Figure size 1000x400 with 1 Axes>"
      ]
     },
     "metadata": {},
     "output_type": "display_data"
    },
    {
     "name": "stdout",
     "output_type": "stream",
     "text": [
      "Postive:\n",
      "Q1 (25th percentile): 0.2625\n",
      "Q2 (50th percentile - Median): 0.4535\n",
      "Q3 (75th percentile): 0.728\n",
      "Negative:\n",
      "Q1 (25th percentile): 0.231\n",
      "Q2 (50th percentile - Median): 0.3375\n",
      "Q3 (75th percentile): 0.5692499999999999\n"
     ]
    }
   ],
   "source": [
    "eda(data, \"DiabetesPedigree\") "
   ]
  },
  {
   "cell_type": "markdown",
   "id": "78d6b6d8",
   "metadata": {},
   "source": [
    "While the values of DiabetesPedigree are relatively small, differences are less apparent. Nevertheless, it's noteworthy that a value greater than 0.56 is associated with an extremely high diabetes prevalence."
   ]
  },
  {
   "cell_type": "code",
   "execution_count": 19,
   "id": "a57cb6b5",
   "metadata": {},
   "outputs": [
    {
     "name": "stdout",
     "output_type": "stream",
     "text": [
      "count    750.000000\n",
      "mean      33.166667\n",
      "std       11.708872\n",
      "min       21.000000\n",
      "25%       24.000000\n",
      "50%       29.000000\n",
      "75%       40.750000\n",
      "max       81.000000\n",
      "Name: Age, dtype: float64\n"
     ]
    },
    {
     "data": {
      "image/png": "[encoded data removed]",
      "text/plain": [
       "<Figure size 1000x400 with 1 Axes>"
      ]
     },
     "metadata": {},
     "output_type": "display_data"
    },
    {
     "name": "stdout",
     "output_type": "stream",
     "text": [
      "Postive:\n",
      "Q1 (25th percentile): 28.0\n",
      "Q2 (50th percentile - Median): 36.0\n",
      "Q3 (75th percentile): 44.0\n",
      "Negative:\n",
      "Q1 (25th percentile): 23.0\n",
      "Q2 (50th percentile - Median): 27.0\n",
      "Q3 (75th percentile): 37.0\n"
     ]
    }
   ],
   "source": [
    "eda(data, \"Age\") "
   ]
  },
  {
   "cell_type": "markdown",
   "id": "657d6363",
   "metadata": {},
   "source": [
    "In this dataset, most participants are aged between 20 and 30 years, indicating that the age distribution isn't uniformly spread for prevalence interpretation. However, the data shows a consistent number of diabetes cases across different age groups, with the majority of diabetes patients falling between the ages of 28 and 44 years.\n"
   ]
  },
  {
   "cell_type": "markdown",
   "id": "b32a8bcd",
   "metadata": {},
   "source": [
    "## Summary of EDA finding\n",
    "**Pregnancy History:**\n",
    "\n",
    "- Most diabetes patients had pregnancies ranging from 2 to 8 times, higher than those without diabetes (1 to 5 pregnancies).\n",
    "\n",
    "- **High Risk:** When 'Pregnancies' is greater than or equal to 7, diabetes prevalence exceeds 50%.\n",
    "\n",
    "**Plasma Glucose Concentration:**\n",
    "\n",
    "- Diabetes patients have higher plasma glucose levels (119 to 166.25) compared to non-diabetic individuals (93.25 to 125).\n",
    "\n",
    "- **Threshold:** When plasma glucose exceeds 120, the likelihood of diabetes is around 50%.\n",
    "\n",
    "**Blood Pressure:**\n",
    "\n",
    "- Most diabetics have blood pressure between 68 and 82, but many participants fall within the standard range of 64 to 80.\n",
    "\n",
    "- **Inconclusive:** Establishing a clear link between blood pressure and diabetes is visually challenging.\n",
    "\n",
    "**Skin Thickness:**\n",
    "\n",
    "- Diabetics generally have thicker skin (22.28 to 36).\n",
    "\n",
    "- **High Proportion:** A significant number of diabetics have 'SkinThickness' in the 22.0 to 44.5 range.\n",
    "\n",
    "**Insulin Levels:**\n",
    "\n",
    "- Healthy individuals have an Insulin level of around 69.\n",
    "\n",
    "- **Diabetes Indicator:** High Insulin levels (>74) often indicate diabetes.\n",
    "\n",
    "**BMI (Body Mass Index):**\n",
    "\n",
    "- Lower BMI values are mostly associated with non-diabetic cases.\n",
    "\n",
    "- **High Risk:** BMI > 30 indicates over 40% likelihood of diabetes, increasing to 100% with BMI > 48.\n",
    "\n",
    "- **Common Range:** Most diabetes patients have BMI between 30.875 and 38.775.\n",
    "\n",
    "**DiabetesPedigree:**\n",
    "\n",
    "- Values are relatively small and less distinct.\n",
    "\n",
    "- **High Risk:** Values greater than 0.56 indicate an extremely high diabetes prevalence.\n",
    "\n",
    "**Age:**\n",
    "\n",
    "- Participants aged 20 to 30 dominate the dataset.\n",
    "\n",
    "- **Consistent Diabetes Cases:** Diabetes cases are consistent across different age groups, with the majority aged 28 to 44.\n"
   ]
  },
  {
   "cell_type": "code",
   "execution_count": 20,
   "id": "d8e092d8",
   "metadata": {},
   "outputs": [
    {
     "name": "stdout",
     "output_type": "stream",
     "text": [
      "Probability of diabetes with 0 to 6 children:\t0.29\n",
      "Probability of diabetes with 7 or more children:0.58\n"
     ]
    },
    {
     "name": "stderr",
     "output_type": "stream",
     "text": [
      "D:\\anaconda\\envs\\envs_notebook\\lib\\site-packages\\sklearn\\base.py:420: UserWarning: X does not have valid feature names, but LogisticRegression was fitted with feature names\n",
      "  warnings.warn(\n",
      "D:\\anaconda\\envs\\envs_notebook\\lib\\site-packages\\sklearn\\base.py:420: UserWarning: X does not have valid feature names, but LogisticRegression was fitted with feature names\n",
      "  warnings.warn(\n"
     ]
    }
   ],
   "source": [
    "import pandas as pd\n",
    "from sklearn.model_selection import train_test_split\n",
    "from sklearn.linear_model import LogisticRegression\n",
    "\n",
    "# Initialize values to 0.\n",
    "data['SevenOrMorePregnancies'] = 0  \n",
    "# Set the value to 1 for rows when meet data['Pregnancies'] >= 7.\n",
    "data.loc[data['Pregnancies'] >= 7, 'SevenOrMorePregnancies'] = 1 \n",
    "\n",
    "# Split the data into a training set and a testing set\n",
    "X = data[['SevenOrMorePregnancies']]\n",
    "y = data['Outcome']\n",
    "X_train, X_test, y_train, y_test = train_test_split(X, y, test_size=0.2, random_state=42)\n",
    "\n",
    "# Fit a logistic regression model\n",
    "model = LogisticRegression()\n",
    "model.fit(X_train, y_train)\n",
    "\n",
    "\n",
    "# Calculate the probability of diabetes\n",
    "# [0] means data['SevenOrMorePregnancies'] == 0 (< 7 children)\n",
    "# Probability with 0 or 6 children\n",
    "prob_0 = model.predict_proba(pd.DataFrame([0]))[0, 1]  \n",
    "# [1] means data['SevenOrMorePregnancies'] == 1 (>= 7 children)\n",
    "# Probability with 7 or more children\n",
    "prob_1 = model.predict_proba(pd.DataFrame([1]))[0, 1]  \n",
    "\n",
    "print(f\"Probability of diabetes with 0 to 6 children:\\t{prob_0:.2f}\")\n",
    "print(f\"Probability of diabetes with 7 or more children:{prob_1:.2f}\")"
   ]
  },
  {
   "cell_type": "markdown",
   "id": "585dd095",
   "metadata": {},
   "source": [
    "The EDA analysis highlights 7 as a crucial threshold for diabetes outcomes. Using logistic regression, we found that the probability of diabetes with 7 or more children is 0.58, while it's only 0.29 for 0 to 6 children."
   ]
  },
  {
   "cell_type": "code",
   "execution_count": 21,
   "id": "9887c0af",
   "metadata": {},
   "outputs": [],
   "source": [
    "from sklearn.model_selection import train_test_split\n",
    "y = data[\"Outcome\"]\n",
    "X = data.drop([\"Outcome\", \"SevenOrMorePregnancies\"] , axis=1)\n",
    "X_train, X_test, y_train, y_test = train_test_split(X, y, test_size=0.2, random_state=42)"
   ]
  },
  {
   "cell_type": "code",
   "execution_count": 22,
   "id": "c5a7b478",
   "metadata": {},
   "outputs": [
    {
     "name": "stdout",
     "output_type": "stream",
     "text": [
      "Logistic Regression Accuracy：0.77\n"
     ]
    },
    {
     "name": "stderr",
     "output_type": "stream",
     "text": [
      "D:\\anaconda\\envs\\envs_notebook\\lib\\site-packages\\sklearn\\linear_model\\_logistic.py:458: ConvergenceWarning: lbfgs failed to converge (status=1):\n",
      "STOP: TOTAL NO. of ITERATIONS REACHED LIMIT.\n",
      "\n",
      "Increase the number of iterations (max_iter) or scale the data as shown in:\n",
      "    https://scikit-learn.org/stable/modules/preprocessing.html\n",
      "Please also refer to the documentation for alternative solver options:\n",
      "    https://scikit-learn.org/stable/modules/linear_model.html#logistic-regression\n",
      "  n_iter_i = _check_optimize_result(\n"
     ]
    }
   ],
   "source": [
    "# logistic regression\n",
    "from sklearn.linear_model import LogisticRegression\n",
    "from sklearn.metrics import accuracy_score\n",
    "\n",
    "log_model = LogisticRegression()\n",
    "log_model.fit(X_train, y_train)\n",
    "\n",
    "y_pred = log_model.predict(X_test)\n",
    "\n",
    "accuracy = accuracy_score(y_test, y_pred)\n",
    "print(f\"Logistic Regression Accuracy：{accuracy:.2f}\")\n"
   ]
  },
  {
   "cell_type": "markdown",
   "id": "8eece8f9",
   "metadata": {},
   "source": [
    "**Logistic Regression** \n",
    "- It is a well-suited choice for binary classification tasks like predicting diabetes, thanks to its simplicity and interpretability.\n"
   ]
  },
  {
   "cell_type": "code",
   "execution_count": 23,
   "id": "ebb6f104",
   "metadata": {},
   "outputs": [
    {
     "name": "stdout",
     "output_type": "stream",
     "text": [
      "Decision Tree Classifier Accuracy: 0.87\n"
     ]
    }
   ],
   "source": [
    "# Decision tree\n",
    "from sklearn.tree import DecisionTreeClassifier\n",
    "from sklearn.metrics import accuracy_score\n",
    "\n",
    "tree_model = DecisionTreeClassifier()\n",
    "tree_model.fit(X_train, y_train)\n",
    "\n",
    "y_pred = tree_model.predict(X_test)\n",
    "\n",
    "accuracy = accuracy_score(y_test, y_pred)\n",
    "print(f\"Decision Tree Classifier Accuracy: {accuracy:.2f}\")"
   ]
  },
  {
   "cell_type": "markdown",
   "id": "72d0cfbe",
   "metadata": {},
   "source": [
    "**Decision Tree Classifier** \n",
    "- It is selected for its ability to handle non-linear relationships within the data and provide a transparent decision-making process."
   ]
  },
  {
   "cell_type": "code",
   "execution_count": 24,
   "id": "c441e29e",
   "metadata": {},
   "outputs": [
    {
     "data": {
      "text/plain": [
       "'decision_tree.pdf'"
      ]
     },
     "execution_count": 24,
     "metadata": {},
     "output_type": "execute_result"
    }
   ],
   "source": [
    "from sklearn.tree import export_graphviz\n",
    "import graphviz\n",
    "\n",
    "dot_data = export_graphviz(tree_model, out_file=None, \n",
    "                           feature_names=X.columns, \n",
    "                           filled=True, rounded=True,\n",
    "                           class_names=[\"Negative\", \"Positive\"],\n",
    "                           special_characters=True)\n",
    "\n",
    "graph = graphviz.Source(dot_data)\n",
    "graph.render(\"decision_tree\")  \n",
    "graph.view() \n"
   ]
  },
  {
   "cell_type": "code",
   "execution_count": 25,
   "id": "cca72f2e",
   "metadata": {},
   "outputs": [
    {
     "name": "stdout",
     "output_type": "stream",
     "text": [
      "Random Forest Classifier Accuracy: 0.85\n"
     ]
    }
   ],
   "source": [
    "# random forest\n",
    "from sklearn.ensemble import RandomForestClassifier\n",
    "from sklearn.metrics import accuracy_score\n",
    "\n",
    "forest_model = RandomForestClassifier()\n",
    "forest_model.fit(X_train, y_train)\n",
    "\n",
    "y_pred = forest_model.predict(X_test)\n",
    "\n",
    "accuracy = accuracy_score(y_test, y_pred)\n",
    "print(f\"Random Forest Classifier Accuracy: {accuracy:.2f}\")\n"
   ]
  },
  {
   "cell_type": "code",
   "execution_count": 26,
   "id": "a5f7a6de",
   "metadata": {},
   "outputs": [
    {
     "data": {
      "image/png": "[encoded data removed]",
      "text/plain": [
       "<Figure size 640x480 with 1 Axes>"
      ]
     },
     "metadata": {},
     "output_type": "display_data"
    }
   ],
   "source": [
    "import matplotlib.pyplot as plt\n",
    "from sklearn.ensemble import RandomForestClassifier\n",
    "\n",
    "\n",
    "# Get feature importances\n",
    "feature_importances = forest_model.feature_importances_\n",
    "\n",
    "# Sort feature importances in descending order\n",
    "sorted_idx = np.argsort(feature_importances)[::-1]\n",
    "\n",
    "# Get the names of the features\n",
    "feature_names = X.columns\n",
    "\n",
    "# Plot all features\n",
    "N = 8\n",
    "plt.bar(range(N), feature_importances[sorted_idx][:N])\n",
    "plt.xticks(range(N), [feature_names[i] for i in sorted_idx][:N], rotation=90)\n",
    "plt.xlabel('Features')\n",
    "plt.ylabel('Importance')\n",
    "plt.title('Random Forest model'.format(N))\n",
    "plt.show()\n"
   ]
  },
  {
   "cell_type": "code",
   "execution_count": 27,
   "id": "647f48c7",
   "metadata": {},
   "outputs": [
    {
     "name": "stdout",
     "output_type": "stream",
     "text": [
      "KNN Classifier Accuracy：0.88\n"
     ]
    }
   ],
   "source": [
    "# KNN\n",
    "from sklearn.neighbors import KNeighborsClassifier\n",
    "from sklearn.metrics import accuracy_score\n",
    "\n",
    "k = 12 \n",
    "KNN_model = KNeighborsClassifier(n_neighbors=k)\n",
    "KNN_model.fit(X_train, y_train)\n",
    "\n",
    "y_pred = KNN_model.predict(X_test)\n",
    "\n",
    "accuracy = accuracy_score(y_test, y_pred)\n",
    "print(f\"KNN Classifier Accuracy：{accuracy:.2f}\")\n"
   ]
  },
  {
   "cell_type": "code",
   "execution_count": 28,
   "id": "996145bc",
   "metadata": {},
   "outputs": [
    {
     "data": {
      "text/plain": [
       "['Pregnancies',\n",
       " 'Glucose',\n",
       " 'BloodPressure',\n",
       " 'SkinThickness',\n",
       " 'Insulin',\n",
       " 'BMI',\n",
       " 'DiabetesPedigree',\n",
       " 'Age']"
      ]
     },
     "execution_count": 28,
     "metadata": {},
     "output_type": "execute_result"
    }
   ],
   "source": [
    "X_test.columns.to_list()"
   ]
  },
  {
   "cell_type": "code",
   "execution_count": 29,
   "id": "9f4d58bb",
   "metadata": {},
   "outputs": [
    {
     "data": {
      "text/html": [
       "<div>\n",
       "<style scoped>\n",
       "    .dataframe tbody tr th:only-of-type {\n",
       "        vertical-align: middle;\n",
       "    }\n",
       "\n",
       "    .dataframe tbody tr th {\n",
       "        vertical-align: top;\n",
       "    }\n",
       "\n",
       "    .dataframe thead th {\n",
       "        text-align: right;\n",
       "    }\n",
       "</style>\n",
       "<table border=\"1\" class=\"dataframe\">\n",
       "  <thead>\n",
       "    <tr style=\"text-align: right;\">\n",
       "      <th></th>\n",
       "      <th>Pregnancies</th>\n",
       "      <th>Glucose</th>\n",
       "      <th>BloodPressure</th>\n",
       "      <th>SkinThickness</th>\n",
       "      <th>Insulin</th>\n",
       "      <th>BMI</th>\n",
       "      <th>DiabetesPedigree</th>\n",
       "      <th>Age</th>\n",
       "    </tr>\n",
       "  </thead>\n",
       "  <tbody>\n",
       "    <tr>\n",
       "      <th>0</th>\n",
       "      <td>4</td>\n",
       "      <td>136</td>\n",
       "      <td>70</td>\n",
       "      <td>0</td>\n",
       "      <td>0</td>\n",
       "      <td>31.2</td>\n",
       "      <td>1.182</td>\n",
       "      <td>22</td>\n",
       "    </tr>\n",
       "    <tr>\n",
       "      <th>1</th>\n",
       "      <td>1</td>\n",
       "      <td>121</td>\n",
       "      <td>78</td>\n",
       "      <td>39</td>\n",
       "      <td>74</td>\n",
       "      <td>39.0</td>\n",
       "      <td>0.261</td>\n",
       "      <td>28</td>\n",
       "    </tr>\n",
       "    <tr>\n",
       "      <th>2</th>\n",
       "      <td>3</td>\n",
       "      <td>108</td>\n",
       "      <td>62</td>\n",
       "      <td>24</td>\n",
       "      <td>0</td>\n",
       "      <td>26.0</td>\n",
       "      <td>0.223</td>\n",
       "      <td>25</td>\n",
       "    </tr>\n",
       "    <tr>\n",
       "      <th>3</th>\n",
       "      <td>0</td>\n",
       "      <td>181</td>\n",
       "      <td>88</td>\n",
       "      <td>44</td>\n",
       "      <td>510</td>\n",
       "      <td>43.3</td>\n",
       "      <td>0.222</td>\n",
       "      <td>26</td>\n",
       "    </tr>\n",
       "    <tr>\n",
       "      <th>4</th>\n",
       "      <td>8</td>\n",
       "      <td>154</td>\n",
       "      <td>78</td>\n",
       "      <td>32</td>\n",
       "      <td>0</td>\n",
       "      <td>32.4</td>\n",
       "      <td>0.443</td>\n",
       "      <td>45</td>\n",
       "    </tr>\n",
       "  </tbody>\n",
       "</table>\n",
       "</div>"
      ],
      "text/plain": [
       "   Pregnancies  Glucose  BloodPressure  SkinThickness  Insulin   BMI  \\\n",
       "0            4      136             70              0        0  31.2   \n",
       "1            1      121             78             39       74  39.0   \n",
       "2            3      108             62             24        0  26.0   \n",
       "3            0      181             88             44      510  43.3   \n",
       "4            8      154             78             32        0  32.4   \n",
       "\n",
       "   DiabetesPedigree  Age  \n",
       "0             1.182   22  \n",
       "1             0.261   28  \n",
       "2             0.223   25  \n",
       "3             0.222   26  \n",
       "4             0.443   45  "
      ]
     },
     "execution_count": 29,
     "metadata": {},
     "output_type": "execute_result"
    }
   ],
   "source": [
    "# load ToPredict.csv\n",
    "predict_data = pd.read_csv(\"ToPredict.csv\")\n",
    "predict_data.head()\n"
   ]
  },
  {
   "cell_type": "code",
   "execution_count": 30,
   "id": "8ffe4764",
   "metadata": {},
   "outputs": [
    {
     "name": "stdout",
     "output_type": "stream",
     "text": [
      "Logistic Regression:\t\t\t [0 0 0 1 1]\n",
      "Decision Tree Classifier Accuracy：\t [1 0 0 1 0]\n",
      "Random Forest Classifier:\t\t [0 0 0 1 0]\n",
      "KNN Classifier:\t\t\t\t [0 0 0 1 0]\n"
     ]
    }
   ],
   "source": [
    "print(\"Logistic Regression:\\t\\t\\t\", log_model.predict(predict_data))\n",
    "print(\"Decision Tree Classifier Accuracy：\\t\", tree_model.predict(predict_data))\n",
    "print(\"Random Forest Classifier:\\t\\t\", forest_model.predict(predict_data))\n",
    "print(\"KNN Classifier:\\t\\t\\t\\t\", KNN_model.predict(predict_data))"
   ]
  },
  {
   "cell_type": "markdown",
   "id": "35d3e797",
   "metadata": {},
   "source": [
    "It is obvious that **[0 0 0 1 0]** is the highest probability prediction of ToPredict.csv\n"
   ]
  },
  {
   "cell_type": "code",
   "execution_count": 31,
   "id": "55cb461f",
   "metadata": {},
   "outputs": [
    {
     "data": {
      "text/html": [
       "<div>\n",
       "<style scoped>\n",
       "    .dataframe tbody tr th:only-of-type {\n",
       "        vertical-align: middle;\n",
       "    }\n",
       "\n",
       "    .dataframe tbody tr th {\n",
       "        vertical-align: top;\n",
       "    }\n",
       "\n",
       "    .dataframe thead th {\n",
       "        text-align: right;\n",
       "    }\n",
       "</style>\n",
       "<table border=\"1\" class=\"dataframe\">\n",
       "  <thead>\n",
       "    <tr style=\"text-align: right;\">\n",
       "      <th></th>\n",
       "      <th>Pregnancies</th>\n",
       "      <th>Glucose</th>\n",
       "      <th>BloodPressure</th>\n",
       "      <th>SkinThickness</th>\n",
       "      <th>Insulin</th>\n",
       "      <th>BMI</th>\n",
       "      <th>DiabetesPedigree</th>\n",
       "      <th>Age</th>\n",
       "      <th>Outcome</th>\n",
       "    </tr>\n",
       "  </thead>\n",
       "  <tbody>\n",
       "    <tr>\n",
       "      <th>0</th>\n",
       "      <td>4</td>\n",
       "      <td>136</td>\n",
       "      <td>70</td>\n",
       "      <td>0</td>\n",
       "      <td>0</td>\n",
       "      <td>31.2</td>\n",
       "      <td>1.182</td>\n",
       "      <td>22</td>\n",
       "      <td>0</td>\n",
       "    </tr>\n",
       "    <tr>\n",
       "      <th>1</th>\n",
       "      <td>1</td>\n",
       "      <td>121</td>\n",
       "      <td>78</td>\n",
       "      <td>39</td>\n",
       "      <td>74</td>\n",
       "      <td>39.0</td>\n",
       "      <td>0.261</td>\n",
       "      <td>28</td>\n",
       "      <td>0</td>\n",
       "    </tr>\n",
       "    <tr>\n",
       "      <th>2</th>\n",
       "      <td>3</td>\n",
       "      <td>108</td>\n",
       "      <td>62</td>\n",
       "      <td>24</td>\n",
       "      <td>0</td>\n",
       "      <td>26.0</td>\n",
       "      <td>0.223</td>\n",
       "      <td>25</td>\n",
       "      <td>0</td>\n",
       "    </tr>\n",
       "    <tr>\n",
       "      <th>3</th>\n",
       "      <td>0</td>\n",
       "      <td>181</td>\n",
       "      <td>88</td>\n",
       "      <td>44</td>\n",
       "      <td>510</td>\n",
       "      <td>43.3</td>\n",
       "      <td>0.222</td>\n",
       "      <td>26</td>\n",
       "      <td>1</td>\n",
       "    </tr>\n",
       "    <tr>\n",
       "      <th>4</th>\n",
       "      <td>8</td>\n",
       "      <td>154</td>\n",
       "      <td>78</td>\n",
       "      <td>32</td>\n",
       "      <td>0</td>\n",
       "      <td>32.4</td>\n",
       "      <td>0.443</td>\n",
       "      <td>45</td>\n",
       "      <td>0</td>\n",
       "    </tr>\n",
       "  </tbody>\n",
       "</table>\n",
       "</div>"
      ],
      "text/plain": [
       "   Pregnancies  Glucose  BloodPressure  SkinThickness  Insulin   BMI  \\\n",
       "0            4      136             70              0        0  31.2   \n",
       "1            1      121             78             39       74  39.0   \n",
       "2            3      108             62             24        0  26.0   \n",
       "3            0      181             88             44      510  43.3   \n",
       "4            8      154             78             32        0  32.4   \n",
       "\n",
       "   DiabetesPedigree  Age  Outcome  \n",
       "0             1.182   22        0  \n",
       "1             0.261   28        0  \n",
       "2             0.223   25        0  \n",
       "3             0.222   26        1  \n",
       "4             0.443   45        0  "
      ]
     },
     "execution_count": 31,
     "metadata": {},
     "output_type": "execute_result"
    }
   ],
   "source": [
    "predict_data[\"Outcome\"] =  KNN_model.predict(predict_data)\n",
    "predict_data"
   ]
  }
 ],
 "metadata": {
  "celltoolbar": "Edit Metadata",
  "kernelspec": {
   "display_name": "Python 3 (ipykernel)",
   "language": "python",
   "name": "python3"
  },
  "language_info": {
   "codemirror_mode": {
    "name": "ipython",
    "version": 3
   },
   "file_extension": ".py",
   "mimetype": "text/x-python",
   "name": "python",
   "nbconvert_exporter": "python",
   "pygments_lexer": "ipython3",
   "version": "3.10.9"
  }
 },
 "nbformat": 4,
 "nbformat_minor": 5
}
